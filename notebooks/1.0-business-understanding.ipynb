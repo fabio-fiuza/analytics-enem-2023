{
 "cells": [
  {
   "cell_type": "markdown",
   "metadata": {},
   "source": [
    "# **Entendimento do Negócio**"
   ]
  },
  {
   "cell_type": "markdown",
   "metadata": {},
   "source": [
    "### **Contexto**\n",
    "\n",
    "Este projeto integra-se ao âmbito educacional, concentrando-se na análise do desempenho dos estudantes no Exame Nacional do Ensino Médio (ENEM). O desempenho nesse exame representa um indicador fundamental da qualidade da educação no Brasil, exercendo influência significativa tanto nas políticas públicas quanto nas decisões pessoais dos estudantes. Ao investigar e compreender os resultados do ENEM, podemos obter insights valiosos sobre os pontos fortes e as áreas de melhoria do sistema educacional brasileiro, possibilitando a formulação de estratégias mais eficazes para o aprimoramento contínuo da educação em nosso país."
   ]
  },
  {
   "cell_type": "markdown",
   "metadata": {},
   "source": [
    "### **Principais Interressados**\n",
    "\n",
    "O objetivo desse projeto é fornecer uma análise direcionada às *Secretarias de Educação Estaduais e Municipais*, assim como aos *formuladores de políticas públicas*. Com o auxílio de uma ferramenta interativa, essas entidades poderão orientar políticas educacionais para aprimorar a qualidade do ensino e promover a equidade educacional no país."
   ]
  },
  {
   "cell_type": "markdown",
   "metadata": {},
   "source": [
    "### **Objetivos do Negócio**\n",
    "\n",
    "- **Melhoria da Qualidade Educacional:** Identificar áreas com baixo desempenho para implementar políticas de melhoria e alocação de recursos. <br><br>\n",
    "- **Redução das Desigualdades Regionais:** Detectar disparidades educacionais entre diferentes regiões para promover igualdade de oportunidades. <br><br>\n",
    "- **Apoio à Tomada de Decisões:** Fornecer dados detalhados e visualizações claras para apoiar decisões informadas por parte das autoridades educacionais. <br><br>\n",
    "- **Aumento da Transparência:** Disponibilizar dados de forma acessível ao público, aumentando a transparência do desempenho educacional no Brasil. <br><br>"
   ]
  },
  {
   "cell_type": "markdown",
   "metadata": {},
   "source": [
    "### **Questões de Negócio**\n",
    "\n",
    "**Perfil Etário**\n",
    "\n",
    "- Qual é a faixa etária predominante entre os inscritos?\n",
    "\n",
    "**Distribuição de Gênero**\n",
    "\n",
    "-  Como se distribui a proporção de gênero entre os candidatos?\n",
    "  \n",
    "**Desempenho dos Candidatos**\n",
    "\n",
    "- Como é a distribuição das notas dos candidatos por área de conhecimento?\n",
    "- Como as notas de redação se diferem entre alunos de escolas públicas e privadas?\n",
    "- Quais são os principais fatores que levam os candidatos a obterem nota zero na redação?\n",
    "- Qual é a proporção de treineiros em comparação com candidatos regulares?"
   ]
  },
  {
   "cell_type": "markdown",
   "metadata": {},
   "source": [
    "### **Objetivos do Projeto**\n",
    "\n",
    "- Coletar e limpar dados do ENEM. <br><br>\n",
    "- Realizar análise exploratória de dados. <br><br>\n",
    "- Desenvolver visualizações interativas para os dados. <br><br>\n",
    "- Fornecer insights baseados nos dados para os stakeholders. <br><br>\n",
    "- Tornar os dados acessíveis através de um dashboard interativo. <br><br>"
   ]
  }
 ],
 "metadata": {
  "kernelspec": {
   "display_name": "Python 3",
   "language": "python",
   "name": "python3"
  },
  "language_info": {
   "codemirror_mode": {
    "name": "ipython",
    "version": 3
   },
   "file_extension": ".py",
   "mimetype": "text/x-python",
   "name": "python",
   "nbconvert_exporter": "python",
   "pygments_lexer": "ipython3",
   "version": "3.12.0"
  }
 },
 "nbformat": 4,
 "nbformat_minor": 2
}
